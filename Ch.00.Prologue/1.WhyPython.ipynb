{
 "cells": [
  {
   "cell_type": "markdown",
   "metadata": {},
   "source": [
    "# Why Python (and not R, Stata, Java, C, etc...)\n",
    "\n",
    "In the winter of 2002 I took an undergraduate computer science course called 'Vocational Languages'. This course was meant to teach undergraduate computer science students (and those like me who were taking a 'minor' in computer science) some languages they would likely encounter in the field. This year the professor came into class stating that this year we would not be learning Perl, the previous reigning champ of text processing and very dense code. We would be learning this new language, Python. It seemed fun, easy to use and bound to catch on. For my final project I built a video game playable online using a Python web server. It was a small miracle I got it working but I was really pleased with the results. A year passes with me trying to do my own projects in Java (my programming 'mother tongue') and realising that I just liked Python's syntax better. I got increasingly proficient at Python and used it in virtually all my papers that had some coding involved. I used Java less and less. Meanwhile the world around me was also discovering Python. For example, Eytan Adar had written this clever network visualisation package called GUESS. It was basically a window to see a network and a command line to use Python-like commands to change the look of the network. It was used in one of the most famous network diagrams of all time, Adamic and Glance's picture of blog traffic between democrats and republications (xx). As an image of political polarisation it was a harbinger of the extreme political environment to come. Meanwhile, Guido Van Rossum, the creator of Python began working at Google, giving the language a boost in legitimacy. Students started picking up this language, often as a second language alongside Java (for computer scientists), R (for statisticians), Stata (for econometricians) and so forth. Python started feeling like the glue that kept us all from drifting into our own silos. \n",
    "\n",
    "Today, Python is one of the most sought-after languages in data science. New algorithms emerge in this language incredibly quickly and libraries such as ```sklearn``` allow people to use Python to do some of the most cutting-edge machine learning. It turns out Guido's intuition was right - many of the bugs we face happen because the language is too hard to read. Unlike many of its predecessors such as Java and C, Python is a little looser as a language. This means you can say less and let the computer make more assumptions. For example, you can just say ```x = 5``` without first telling the computer that ```x``` is going to be a number (whereas in Java you would have to cast the variable by saying, for example, ```int x = 5```. The fact that Python is 'weakly cast' means you run the risk of some input / output errors. What if you send ```\"email.admin@example.com\"```, which is a string representing an email address rather than ```42``` which is a number? There are times in Python where this might throw an error. But errors are not actually very common. So, we take such risks in order to use a language that is organised visually, pretty succinct, and very well supported. \n",
    "\n",
    "Data scientists want a language that is approachable, with a smooth learning curve, easily rendered across platforms, and extensible with libraries for different purposes. Python now fits that bill. You want to access data on Reddit, there's ```PRAW``` (the Python Reddit Wrapper). Making code that acts like a user on a browser? There's now ```Selenium``` and ```mechanicalsoup```. Neural networks? There's ```tensorflow```. Natural language processing? There's ```NLTK```. Python is widely supported, popular and has, to the extent any computer language has, a friendly and helpful community. Indeed, as of 2019, Python is now the most popular language on StackOverflow, suggesting a vibrant community of learners and experts alike (xx). Further, Python is not a language of computer science machismo. It's not designed to win speed tests or compile into the smallest file size. It's meant to be clear and useful. And good news for those on a budget, every library and package we use in this book will be completely free to download and use."
   ]
  },
  {
   "cell_type": "code",
   "execution_count": null,
   "metadata": {},
   "outputs": [],
   "source": []
  }
 ],
 "metadata": {
  "kernelspec": {
   "display_name": "Python 3",
   "language": "python",
   "name": "python3"
  },
  "language_info": {
   "codemirror_mode": {
    "name": "ipython",
    "version": 3
   },
   "file_extension": ".py",
   "mimetype": "text/x-python",
   "name": "python",
   "nbconvert_exporter": "python",
   "pygments_lexer": "ipython3",
   "version": "3.7.3"
  }
 },
 "nbformat": 4,
 "nbformat_minor": 4
}
